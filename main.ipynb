{
 "cells": [
  {
   "cell_type": "markdown",
   "metadata": {},
   "source": [
    "1. Grid - https://www.w3schools.com/css/css_grid.asp \n",
    "2. Popup - https://www.w3schools.com/howto/howto_js_popup_form.asp\n",
    "3. Progress Bar - https://www.w3schools.com/tags/tag_progress.asp\n",
    "4. None - Does not belong either of the above"
   ]
  },
  {
   "cell_type": "code",
   "execution_count": 3,
   "metadata": {
    "collapsed": false,
    "jupyter": {
     "outputs_hidden": false
    }
   },
   "outputs": [
    {
     "name": "stdout",
     "output_type": "stream",
     "text": [
      "The autoreload extension is already loaded. To reload it, use:\n",
      "  %reload_ext autoreload\n"
     ]
    }
   ],
   "source": [
    "%matplotlib inline\n",
    "import pandas as pd\n",
    "import torch, copy, json, requests, os, time, cv2, glob, random, shutil\n",
    "import torch.nn as nn\n",
    "import torch.nn.functional as F\n",
    "import torch.optim as optim\n",
    "from torch.optim import lr_scheduler\n",
    "from io import BytesIO\n",
    "import numpy as np\n",
    "from PIL import Image\n",
    "import matplotlib.pyplot as plt\n",
    "from tqdm import tqdm\n",
    "from torchvision import datasets, models, transforms\n",
    "from sklearn.neighbors import NearestNeighbors\n",
    "from sklearn.metrics import f1_score, recall_score\n",
    "from src import *\n",
    "%load_ext autoreload\n",
    "%autoreload 2\n",
    "device = torch.device(\"mps\" if torch.backends.mps.is_available() else \"cpu\")\n",
    "torch.set_default_device(device)\n",
    "base_path = './data/images/'"
   ]
  },
  {
   "cell_type": "markdown",
   "metadata": {},
   "source": [
    "### Train test split image folder"
   ]
  },
  {
   "cell_type": "code",
   "execution_count": 4,
   "metadata": {},
   "outputs": [],
   "source": [
    "train_dir = os.path.join(base_path, 'train')\n",
    "val_dir = os.path.join(base_path, 'val')\n",
    "\n",
    "os.makedirs(train_dir, exist_ok=True)\n",
    "os.makedirs(val_dir, exist_ok=True)\n",
    "\n",
    "for cat in ['grid', 'popup', 'progress_bar', 'none']:\n",
    "    image_ls = glob.glob(base_path + cat + '/*')\n",
    "    train_img_ls = random.sample(image_ls, len(image_ls) // 2)\n",
    "    val_image_ls = list(set(image_ls) - set(train_img_ls))\n",
    "    os.makedirs(os.path.join(train_dir, cat), exist_ok=True)\n",
    "    os.makedirs(os.path.join(val_dir, cat), exist_ok=True)\n",
    "    for img_path in train_img_ls:\n",
    "        shutil.copy(img_path, os.path.join(train_dir, cat, os.path.basename(img_path)))\n",
    "    for img_path in val_image_ls:\n",
    "        shutil.copy(img_path, os.path.join(val_dir, cat, os.path.basename(img_path)))"
   ]
  },
  {
   "cell_type": "markdown",
   "metadata": {},
   "source": [
    "### Data Transformations"
   ]
  },
  {
   "cell_type": "code",
   "execution_count": 5,
   "metadata": {},
   "outputs": [],
   "source": [
    "base_transform = [transforms.Resize((224, 224)),  \n",
    "                  transforms.ToTensor(),\n",
    "                  transforms.Normalize([0.485, 0.456, 0.406], [0.229, 0.224, 0.225])]\n",
    "\n",
    "grid_transform = transforms.Compose([ transforms.ColorJitter(brightness=0.2, contrast=0.2),\n",
    "                                        transforms.RandomAffine(degrees=10, translate=(0.05, 0.05))] + \n",
    "                                        base_transform)\n",
    "popup_transform = transforms.Compose([ transforms.ColorJitter(brightness=0.2, contrast=0.2),\n",
    "                                         transforms.RandomAffine(degrees=0, translate=(0.05, 0.05)),  \n",
    "                                        transforms.RandomHorizontalFlip()] + \n",
    "                                        base_transform)\n",
    "progress_bar_transform = transforms.Compose([ transforms.ColorJitter(brightness=0.2, contrast=0.2),\n",
    "                                        transforms.Lambda(pad_to_square)] + \n",
    "                                        base_transform)\n",
    "\n",
    "none_transform = transforms.Compose([ transforms.Lambda(pad_to_square),\n",
    "                                        transforms.ColorJitter(brightness=0.2, contrast=0.2), \n",
    "                                        transforms.RandomAffine(degrees=5, translate=(0.05, 0.05))] +\n",
    "                                        base_transform)\n",
    "\n",
    "val_transform   = transforms.Compose([  transforms.Lambda(pad_to_square)] +\n",
    "                                        base_transform)\n",
    "class_transforms = {'grid': grid_transform, \n",
    "                    'popup': popup_transform,\n",
    "                    'progress_bar': progress_bar_transform,\n",
    "                    'none': none_transform}"
   ]
  },
  {
   "cell_type": "code",
   "execution_count": 6,
   "metadata": {},
   "outputs": [],
   "source": [
    "class CustomImageFolder(datasets.ImageFolder):\n",
    "    def __init__(self, root, class_transforms, transform=None):\n",
    "        super(CustomImageFolder, self).__init__(root, transform)\n",
    "        self.class_transforms = class_transforms\n",
    "        self.class_to_label_name = {0: 'grid',            \n",
    "                                    1: 'none',\n",
    "                                    2: 'popup',\n",
    "                                    3: 'progress_bar'}\n",
    "    \n",
    "    def __getitem__(self, index):\n",
    "        path, target = self.samples[index]\n",
    "        img = self.loader(path)\n",
    "        if img.mode == 'RGBA':\n",
    "            img = img.convert('RGB')\n",
    "        class_name = self.class_to_label_name[target]\n",
    "        if self.transform is None and class_name in self.class_transforms:\n",
    "            img = self.class_transforms[class_name](img)\n",
    "        else:\n",
    "            img = self.transform(img)\n",
    "            \n",
    "        return img, target"
   ]
  },
  {
   "cell_type": "code",
   "execution_count": 7,
   "metadata": {},
   "outputs": [],
   "source": [
    "train_dataset = CustomImageFolder(root=f'{base_path}/train', class_transforms=class_transforms)\n",
    "val_dataset = CustomImageFolder(root=f'{base_path}/val', class_transforms=None, transform = val_transform)"
   ]
  },
  {
   "cell_type": "code",
   "execution_count": 8,
   "metadata": {},
   "outputs": [
    {
     "data": {
      "text/plain": [
       "(852, 855)"
      ]
     },
     "execution_count": 8,
     "metadata": {},
     "output_type": "execute_result"
    }
   ],
   "source": [
    "len(train_dataset), len(val_dataset)"
   ]
  },
  {
   "cell_type": "code",
   "execution_count": 9,
   "metadata": {},
   "outputs": [],
   "source": [
    "dataloaders = {'train': torch.utils.data.DataLoader(train_dataset, batch_size=32, shuffle=True),\n",
    "              'val': torch.utils.data.DataLoader(val_dataset, batch_size=32, shuffle=False)}"
   ]
  },
  {
   "cell_type": "code",
   "execution_count": 11,
   "metadata": {},
   "outputs": [
    {
     "data": {
      "text/plain": [
       "{'grid': 0, 'none': 1, 'popup': 2, 'progress_bar': 3}"
      ]
     },
     "execution_count": 11,
     "metadata": {},
     "output_type": "execute_result"
    }
   ],
   "source": [
    "train_dataset.class_to_idx"
   ]
  },
  {
   "cell_type": "code",
   "execution_count": 12,
   "metadata": {},
   "outputs": [
    {
     "data": {
      "text/plain": [
       "['grid', 'none', 'popup', 'progress_bar']"
      ]
     },
     "execution_count": 12,
     "metadata": {},
     "output_type": "execute_result"
    }
   ],
   "source": [
    "class_names = train_dataset.classes\n",
    "class_names"
   ]
  },
  {
   "cell_type": "code",
   "execution_count": 21,
   "metadata": {
    "scrolled": true
   },
   "outputs": [
    {
     "name": "stderr",
     "output_type": "stream",
     "text": [
      "/Users/patsnap/miniforge3/envs/tf_env/lib/python3.8/site-packages/torchvision/models/_utils.py:208: UserWarning: The parameter 'pretrained' is deprecated since 0.13 and may be removed in the future, please use 'weights' instead.\n",
      "  warnings.warn(\n",
      "/Users/patsnap/miniforge3/envs/tf_env/lib/python3.8/site-packages/torchvision/models/_utils.py:223: UserWarning: Arguments other than a weight enum or `None` for 'weights' are deprecated since 0.13 and may be removed in the future. The current behavior is equivalent to passing `weights=ResNet50_Weights.IMAGENET1K_V1`. You can also use `weights=ResNet50_Weights.DEFAULT` to get the most up-to-date weights.\n",
      "  warnings.warn(msg)\n"
     ]
    }
   ],
   "source": [
    "model = models.resnet50(pretrained=True)\n",
    "num_ftrs = model.fc.in_features\n",
    "model.fc = nn.Linear(num_ftrs, len(class_names)) \n",
    "model = model.to(device)"
   ]
  },
  {
   "cell_type": "code",
   "execution_count": 22,
   "metadata": {},
   "outputs": [
    {
     "name": "stdout",
     "output_type": "stream",
     "text": [
      "Image Num, class_weights [(368, 2.3), (354, 2.4), (42, 20.3), (88, 9.7)]\n"
     ]
    }
   ],
   "source": [
    "image_ratio = [len(glob.glob(base_path+f'train/{cl_name}/*.png')) for cl_name in class_names]\n",
    "\n",
    "weighted_ratio = [round(len(train_dataset)/image_num ,1) for image_num in image_ratio]\n",
    "\n",
    "print('Image Num, class_weights',list(zip(image_ratio, weighted_ratio)))\n",
    "\n",
    "class_weights = torch.tensor(weighted_ratio).to(device)  \n",
    "criterion = nn.CrossEntropyLoss(weight=class_weights)\n",
    "criterion = nn.CrossEntropyLoss()\n",
    "\n",
    "# Define optimizer and learning rate scheduler\n",
    "optimizer = optim.SGD(model.parameters(), lr=0.001, momentum=0.9)\n",
    "exp_lr_scheduler = lr_scheduler.ReduceLROnPlateau(optimizer, mode='min', factor=0.1, patience=5, verbose=True)"
   ]
  },
  {
   "cell_type": "code",
   "execution_count": 23,
   "metadata": {},
   "outputs": [],
   "source": [
    "def train_model(model, criterion, optimizer, scheduler, num_epochs=200, output_csv='metrics.csv'):\n",
    "    best_model_wts = copy.deepcopy(model.state_dict())\n",
    "    best_loss = float('inf')\n",
    "    metrics = []\n",
    "    patience = 50\n",
    "    patience_counter = 0  \n",
    "    previous_lr = None\n",
    "    for epoch in range(num_epochs):\n",
    "        for phase in ['train', 'val']:\n",
    "            if phase == 'train':\n",
    "                model.train()  \n",
    "            else:\n",
    "                model.eval()   \n",
    "\n",
    "            running_loss = 0.0\n",
    "            running_corrects = 0\n",
    "            all_preds = []\n",
    "            all_labels = []\n",
    "\n",
    "            data_loader = tqdm(dataloaders[phase], desc=f'{phase.capitalize()} Epoch {epoch+1}/{num_epochs}')\n",
    "            for inputs, labels in data_loader:\n",
    "                inputs = inputs.to(device)\n",
    "                labels = labels.to(device)\n",
    "                optimizer.zero_grad()\n",
    "\n",
    "                with torch.set_grad_enabled(phase == 'train'):\n",
    "                    outputs = model(inputs)\n",
    "                    _, preds = torch.max(outputs, 1)\n",
    "                    loss = criterion(outputs, labels)\n",
    "\n",
    "                    if phase == 'train':\n",
    "                        loss.backward()\n",
    "                        optimizer.step()\n",
    "\n",
    "                running_loss += loss.item() * inputs.size(0)\n",
    "                running_corrects += torch.sum(preds == labels.data)\n",
    "                all_preds.extend(preds.cpu().numpy())\n",
    "                all_labels.extend(labels.cpu().numpy())\n",
    "\n",
    "\n",
    "            data_loader.set_postfix({f'{phase.capitalize()} Loss': running_loss / len(data_loader)})\n",
    "\n",
    "            epoch_loss = running_loss / len(dataloaders[phase].dataset)\n",
    "            epoch_acc = running_corrects.float() / len(dataloaders[phase].dataset)\n",
    "            f1 = f1_score(all_labels, all_preds, average='macro')  \n",
    "            recall = recall_score(all_labels, all_preds, average='macro')  \n",
    "\n",
    "\n",
    "            if phase == 'val':\n",
    "                print(f'{phase} Loss: {epoch_loss:.4f} Acc: {epoch_acc:.4f}, f1:{f1:.4f}, recall:{recall:.4f} ')\n",
    "                metrics.append({'epoch': epoch,'phase': phase,'loss': epoch_loss,'accuracy': epoch_acc.item(),'f1_score': f1,'recall': recall})\n",
    "                scheduler.step(epoch_loss)\n",
    "                current_lr = optimizer.param_groups[0]['lr']\n",
    "                if previous_lr is None or current_lr != previous_lr:\n",
    "                    print(f'Learning rate changed: {current_lr:.6f}')\n",
    "                    previous_lr = current_lr\n",
    "\n",
    "                \n",
    "                if epoch_loss < best_loss:\n",
    "                    best_loss = epoch_loss\n",
    "                    best_model_wts = copy.deepcopy(model.state_dict())\n",
    "                    print(f'epoch: {epoch + 1}, best_model_wts save')\n",
    "                    \n",
    "                    patience_counter = 0  \n",
    "                else:\n",
    "                    patience_counter += 1\n",
    "                    \n",
    "                if patience_counter >= patience:\n",
    "                    print(f'Early stopping triggered after {epoch + 1} epochs without improvement.')\n",
    "                    pd.DataFrame(metrics).to_csv(output_csv, index=False)\n",
    "                    model.load_state_dict(best_model_wts)\n",
    "                    return model  \n",
    "\n",
    "    \n",
    "\n",
    "    print(f'Best val loss: {best_loss:.4f}')\n",
    "\n",
    "    model.load_state_dict(best_model_wts)\n",
    "    pd.DataFrame(metrics).to_csv(output_csv, index=False)\n",
    "    return model"
   ]
  },
  {
   "cell_type": "code",
   "execution_count": 24,
   "metadata": {
    "scrolled": true
   },
   "outputs": [
    {
     "name": "stderr",
     "output_type": "stream",
     "text": [
      "Train Epoch 1/200:   0%|                                                                           | 0/27 [00:00<?, ?it/s]/Users/patsnap/miniforge3/envs/tf_env/lib/python3.8/site-packages/torch/utils/_device.py:77: UserWarning: MPS: randperm op is supported natively starting from macOS 13.0. Falling back on CPU. This may have performance implications. (Triggered internally at /Users/runner/work/pytorch/pytorch/pytorch/aten/src/ATen/native/mps/operations/Distributions.mm:392.)\n",
      "  return func(*args, **kwargs)\n",
      "Train Epoch 1/200: 100%|██████████████████████████████████████████████████████████████████| 27/27 [00:36<00:00,  1.35s/it]\n",
      "Val Epoch 1/200: 100%|████████████████████████████████████████████████████████████████████| 27/27 [00:12<00:00,  2.09it/s]\n"
     ]
    },
    {
     "name": "stdout",
     "output_type": "stream",
     "text": [
      "val Loss: 0.6611 Acc: 0.7673, f1:0.5757, recall:0.6379 \n",
      "Learning rate changed: 0.001000\n",
      "epoch: 1, best_model_wts save\n"
     ]
    },
    {
     "name": "stderr",
     "output_type": "stream",
     "text": [
      "Train Epoch 2/200: 100%|██████████████████████████████████████████████████████████████████| 27/27 [00:31<00:00,  1.16s/it]\n",
      "Val Epoch 2/200: 100%|████████████████████████████████████████████████████████████████████| 27/27 [00:12<00:00,  2.10it/s]\n"
     ]
    },
    {
     "name": "stdout",
     "output_type": "stream",
     "text": [
      "val Loss: 0.4834 Acc: 0.8140, f1:0.6339, recall:0.6620 \n",
      "epoch: 2, best_model_wts save\n"
     ]
    },
    {
     "name": "stderr",
     "output_type": "stream",
     "text": [
      "Train Epoch 3/200: 100%|██████████████████████████████████████████████████████████████████| 27/27 [00:31<00:00,  1.18s/it]\n",
      "Val Epoch 3/200: 100%|████████████████████████████████████████████████████████████████████| 27/27 [00:12<00:00,  2.11it/s]\n"
     ]
    },
    {
     "name": "stdout",
     "output_type": "stream",
     "text": [
      "val Loss: 0.4763 Acc: 0.8105, f1:0.7113, recall:0.7289 \n",
      "epoch: 3, best_model_wts save\n"
     ]
    },
    {
     "name": "stderr",
     "output_type": "stream",
     "text": [
      "Train Epoch 4/200: 100%|██████████████████████████████████████████████████████████████████| 27/27 [00:31<00:00,  1.17s/it]\n",
      "Val Epoch 4/200: 100%|████████████████████████████████████████████████████████████████████| 27/27 [00:13<00:00,  2.08it/s]\n"
     ]
    },
    {
     "name": "stdout",
     "output_type": "stream",
     "text": [
      "val Loss: 0.3738 Acc: 0.8550, f1:0.7952, recall:0.8198 \n",
      "epoch: 4, best_model_wts save\n"
     ]
    },
    {
     "name": "stderr",
     "output_type": "stream",
     "text": [
      "Train Epoch 5/200: 100%|██████████████████████████████████████████████████████████████████| 27/27 [00:31<00:00,  1.16s/it]\n",
      "Val Epoch 5/200: 100%|████████████████████████████████████████████████████████████████████| 27/27 [00:12<00:00,  2.12it/s]\n"
     ]
    },
    {
     "name": "stdout",
     "output_type": "stream",
     "text": [
      "val Loss: 0.4125 Acc: 0.8433, f1:0.7923, recall:0.8382 \n"
     ]
    },
    {
     "name": "stderr",
     "output_type": "stream",
     "text": [
      "Train Epoch 6/200: 100%|██████████████████████████████████████████████████████████████████| 27/27 [00:31<00:00,  1.16s/it]\n",
      "Val Epoch 6/200: 100%|████████████████████████████████████████████████████████████████████| 27/27 [00:12<00:00,  2.12it/s]\n"
     ]
    },
    {
     "name": "stdout",
     "output_type": "stream",
     "text": [
      "val Loss: 0.3760 Acc: 0.8573, f1:0.8059, recall:0.8520 \n"
     ]
    },
    {
     "name": "stderr",
     "output_type": "stream",
     "text": [
      "Train Epoch 7/200: 100%|██████████████████████████████████████████████████████████████████| 27/27 [00:31<00:00,  1.16s/it]\n",
      "Val Epoch 7/200: 100%|████████████████████████████████████████████████████████████████████| 27/27 [00:12<00:00,  2.13it/s]\n"
     ]
    },
    {
     "name": "stdout",
     "output_type": "stream",
     "text": [
      "val Loss: 0.4811 Acc: 0.8292, f1:0.7745, recall:0.8403 \n"
     ]
    },
    {
     "name": "stderr",
     "output_type": "stream",
     "text": [
      "Train Epoch 8/200: 100%|██████████████████████████████████████████████████████████████████| 27/27 [00:31<00:00,  1.16s/it]\n",
      "Val Epoch 8/200: 100%|████████████████████████████████████████████████████████████████████| 27/27 [00:12<00:00,  2.12it/s]\n"
     ]
    },
    {
     "name": "stdout",
     "output_type": "stream",
     "text": [
      "val Loss: 0.2866 Acc: 0.8924, f1:0.8518, recall:0.8572 \n",
      "epoch: 8, best_model_wts save\n"
     ]
    },
    {
     "name": "stderr",
     "output_type": "stream",
     "text": [
      "Train Epoch 9/200: 100%|██████████████████████████████████████████████████████████████████| 27/27 [00:31<00:00,  1.15s/it]\n",
      "Val Epoch 9/200: 100%|████████████████████████████████████████████████████████████████████| 27/27 [00:12<00:00,  2.12it/s]\n"
     ]
    },
    {
     "name": "stdout",
     "output_type": "stream",
     "text": [
      "val Loss: 0.3149 Acc: 0.8795, f1:0.8281, recall:0.8391 \n"
     ]
    },
    {
     "name": "stderr",
     "output_type": "stream",
     "text": [
      "Train Epoch 10/200: 100%|█████████████████████████████████████████████████████████████████| 27/27 [00:31<00:00,  1.17s/it]\n",
      "Val Epoch 10/200: 100%|███████████████████████████████████████████████████████████████████| 27/27 [00:12<00:00,  2.12it/s]\n"
     ]
    },
    {
     "name": "stdout",
     "output_type": "stream",
     "text": [
      "val Loss: 0.4235 Acc: 0.8491, f1:0.7972, recall:0.8626 \n"
     ]
    },
    {
     "name": "stderr",
     "output_type": "stream",
     "text": [
      "Train Epoch 11/200: 100%|█████████████████████████████████████████████████████████████████| 27/27 [00:31<00:00,  1.16s/it]\n",
      "Val Epoch 11/200: 100%|███████████████████████████████████████████████████████████████████| 27/27 [00:12<00:00,  2.16it/s]\n"
     ]
    },
    {
     "name": "stdout",
     "output_type": "stream",
     "text": [
      "val Loss: 0.3608 Acc: 0.8760, f1:0.8381, recall:0.8684 \n"
     ]
    },
    {
     "name": "stderr",
     "output_type": "stream",
     "text": [
      "Train Epoch 12/200: 100%|█████████████████████████████████████████████████████████████████| 27/27 [00:31<00:00,  1.17s/it]\n",
      "Val Epoch 12/200: 100%|███████████████████████████████████████████████████████████████████| 27/27 [00:12<00:00,  2.14it/s]\n"
     ]
    },
    {
     "name": "stdout",
     "output_type": "stream",
     "text": [
      "val Loss: 0.2752 Acc: 0.8924, f1:0.8595, recall:0.8815 \n",
      "epoch: 12, best_model_wts save\n"
     ]
    },
    {
     "name": "stderr",
     "output_type": "stream",
     "text": [
      "Train Epoch 13/200: 100%|█████████████████████████████████████████████████████████████████| 27/27 [00:31<00:00,  1.17s/it]\n",
      "Val Epoch 13/200: 100%|███████████████████████████████████████████████████████████████████| 27/27 [00:12<00:00,  2.11it/s]\n"
     ]
    },
    {
     "name": "stdout",
     "output_type": "stream",
     "text": [
      "val Loss: 0.3812 Acc: 0.8655, f1:0.8334, recall:0.8777 \n"
     ]
    },
    {
     "name": "stderr",
     "output_type": "stream",
     "text": [
      "Train Epoch 14/200: 100%|█████████████████████████████████████████████████████████████████| 27/27 [00:31<00:00,  1.16s/it]\n",
      "Val Epoch 14/200: 100%|███████████████████████████████████████████████████████████████████| 27/27 [00:12<00:00,  2.16it/s]\n"
     ]
    },
    {
     "name": "stdout",
     "output_type": "stream",
     "text": [
      "val Loss: 0.3140 Acc: 0.8947, f1:0.8623, recall:0.8846 \n"
     ]
    },
    {
     "name": "stderr",
     "output_type": "stream",
     "text": [
      "Train Epoch 15/200: 100%|█████████████████████████████████████████████████████████████████| 27/27 [00:31<00:00,  1.16s/it]\n",
      "Val Epoch 15/200: 100%|███████████████████████████████████████████████████████████████████| 27/27 [00:12<00:00,  2.14it/s]\n"
     ]
    },
    {
     "name": "stdout",
     "output_type": "stream",
     "text": [
      "val Loss: 0.3839 Acc: 0.8807, f1:0.8419, recall:0.8764 \n"
     ]
    },
    {
     "name": "stderr",
     "output_type": "stream",
     "text": [
      "Train Epoch 16/200: 100%|█████████████████████████████████████████████████████████████████| 27/27 [00:31<00:00,  1.17s/it]\n",
      "Val Epoch 16/200: 100%|███████████████████████████████████████████████████████████████████| 27/27 [00:12<00:00,  2.15it/s]\n"
     ]
    },
    {
     "name": "stdout",
     "output_type": "stream",
     "text": [
      "val Loss: 0.3048 Acc: 0.8865, f1:0.8469, recall:0.8797 \n"
     ]
    },
    {
     "name": "stderr",
     "output_type": "stream",
     "text": [
      "Train Epoch 17/200: 100%|█████████████████████████████████████████████████████████████████| 27/27 [00:31<00:00,  1.16s/it]\n",
      "Val Epoch 17/200: 100%|███████████████████████████████████████████████████████████████████| 27/27 [00:12<00:00,  2.14it/s]\n"
     ]
    },
    {
     "name": "stdout",
     "output_type": "stream",
     "text": [
      "val Loss: 0.3255 Acc: 0.8854, f1:0.8502, recall:0.8949 \n"
     ]
    },
    {
     "name": "stderr",
     "output_type": "stream",
     "text": [
      "Train Epoch 18/200: 100%|█████████████████████████████████████████████████████████████████| 27/27 [00:31<00:00,  1.17s/it]\n",
      "Val Epoch 18/200: 100%|███████████████████████████████████████████████████████████████████| 27/27 [00:12<00:00,  2.14it/s]\n"
     ]
    },
    {
     "name": "stdout",
     "output_type": "stream",
     "text": [
      "val Loss: 0.2833 Acc: 0.8947, f1:0.8582, recall:0.8920 \n",
      "Learning rate changed: 0.000100\n"
     ]
    },
    {
     "name": "stderr",
     "output_type": "stream",
     "text": [
      "Train Epoch 19/200: 100%|█████████████████████████████████████████████████████████████████| 27/27 [00:31<00:00,  1.18s/it]\n",
      "Val Epoch 19/200: 100%|███████████████████████████████████████████████████████████████████| 27/27 [00:13<00:00,  2.06it/s]\n"
     ]
    },
    {
     "name": "stdout",
     "output_type": "stream",
     "text": [
      "val Loss: 0.2968 Acc: 0.8924, f1:0.8566, recall:0.8990 \n"
     ]
    },
    {
     "name": "stderr",
     "output_type": "stream",
     "text": [
      "Train Epoch 20/200: 100%|█████████████████████████████████████████████████████████████████| 27/27 [00:33<00:00,  1.24s/it]\n",
      "Val Epoch 20/200: 100%|███████████████████████████████████████████████████████████████████| 27/27 [00:13<00:00,  2.04it/s]\n"
     ]
    },
    {
     "name": "stdout",
     "output_type": "stream",
     "text": [
      "val Loss: 0.2910 Acc: 0.8971, f1:0.8615, recall:0.9020 \n"
     ]
    },
    {
     "name": "stderr",
     "output_type": "stream",
     "text": [
      "Train Epoch 21/200: 100%|█████████████████████████████████████████████████████████████████| 27/27 [00:32<00:00,  1.19s/it]\n",
      "Val Epoch 21/200: 100%|███████████████████████████████████████████████████████████████████| 27/27 [00:13<00:00,  2.07it/s]\n"
     ]
    },
    {
     "name": "stdout",
     "output_type": "stream",
     "text": [
      "val Loss: 0.3044 Acc: 0.8936, f1:0.8567, recall:0.8998 \n"
     ]
    },
    {
     "name": "stderr",
     "output_type": "stream",
     "text": [
      "Train Epoch 22/200: 100%|█████████████████████████████████████████████████████████████████| 27/27 [00:31<00:00,  1.15s/it]\n",
      "Val Epoch 22/200: 100%|███████████████████████████████████████████████████████████████████| 27/27 [00:12<00:00,  2.13it/s]\n"
     ]
    },
    {
     "name": "stdout",
     "output_type": "stream",
     "text": [
      "val Loss: 0.2865 Acc: 0.9018, f1:0.8676, recall:0.9048 \n"
     ]
    },
    {
     "name": "stderr",
     "output_type": "stream",
     "text": [
      "Train Epoch 23/200: 100%|█████████████████████████████████████████████████████████████████| 27/27 [00:31<00:00,  1.16s/it]\n",
      "Val Epoch 23/200: 100%|███████████████████████████████████████████████████████████████████| 27/27 [00:12<00:00,  2.11it/s]\n"
     ]
    },
    {
     "name": "stdout",
     "output_type": "stream",
     "text": [
      "val Loss: 0.3077 Acc: 0.8947, f1:0.8555, recall:0.8952 \n"
     ]
    },
    {
     "name": "stderr",
     "output_type": "stream",
     "text": [
      "Train Epoch 24/200: 100%|█████████████████████████████████████████████████████████████████| 27/27 [00:31<00:00,  1.17s/it]\n",
      "Val Epoch 24/200: 100%|███████████████████████████████████████████████████████████████████| 27/27 [00:12<00:00,  2.11it/s]\n"
     ]
    },
    {
     "name": "stdout",
     "output_type": "stream",
     "text": [
      "val Loss: 0.3189 Acc: 0.8901, f1:0.8532, recall:0.8977 \n",
      "Learning rate changed: 0.000010\n"
     ]
    },
    {
     "name": "stderr",
     "output_type": "stream",
     "text": [
      "Train Epoch 25/200: 100%|█████████████████████████████████████████████████████████████████| 27/27 [00:32<00:00,  1.20s/it]\n",
      "Val Epoch 25/200: 100%|███████████████████████████████████████████████████████████████████| 27/27 [00:12<00:00,  2.10it/s]\n"
     ]
    },
    {
     "name": "stdout",
     "output_type": "stream",
     "text": [
      "val Loss: 0.3502 Acc: 0.8702, f1:0.8276, recall:0.8857 \n"
     ]
    },
    {
     "name": "stderr",
     "output_type": "stream",
     "text": [
      "Train Epoch 26/200: 100%|█████████████████████████████████████████████████████████████████| 27/27 [00:31<00:00,  1.17s/it]\n",
      "Val Epoch 26/200: 100%|███████████████████████████████████████████████████████████████████| 27/27 [00:13<00:00,  2.08it/s]\n"
     ]
    },
    {
     "name": "stdout",
     "output_type": "stream",
     "text": [
      "val Loss: 0.3319 Acc: 0.8889, f1:0.8504, recall:0.8971 \n"
     ]
    },
    {
     "name": "stderr",
     "output_type": "stream",
     "text": [
      "Train Epoch 27/200: 100%|█████████████████████████████████████████████████████████████████| 27/27 [00:31<00:00,  1.18s/it]\n",
      "Val Epoch 27/200: 100%|███████████████████████████████████████████████████████████████████| 27/27 [00:12<00:00,  2.11it/s]\n"
     ]
    },
    {
     "name": "stdout",
     "output_type": "stream",
     "text": [
      "val Loss: 0.3393 Acc: 0.8807, f1:0.8427, recall:0.8868 \n"
     ]
    },
    {
     "name": "stderr",
     "output_type": "stream",
     "text": [
      "Train Epoch 28/200: 100%|█████████████████████████████████████████████████████████████████| 27/27 [00:32<00:00,  1.19s/it]\n",
      "Val Epoch 28/200: 100%|███████████████████████████████████████████████████████████████████| 27/27 [00:13<00:00,  2.07it/s]\n"
     ]
    },
    {
     "name": "stdout",
     "output_type": "stream",
     "text": [
      "val Loss: 0.3255 Acc: 0.8912, f1:0.8578, recall:0.8931 \n"
     ]
    },
    {
     "name": "stderr",
     "output_type": "stream",
     "text": [
      "Train Epoch 29/200: 100%|█████████████████████████████████████████████████████████████████| 27/27 [00:31<00:00,  1.17s/it]\n",
      "Val Epoch 29/200: 100%|███████████████████████████████████████████████████████████████████| 27/27 [00:12<00:00,  2.10it/s]\n"
     ]
    },
    {
     "name": "stdout",
     "output_type": "stream",
     "text": [
      "val Loss: 0.3285 Acc: 0.8819, f1:0.8415, recall:0.8927 \n"
     ]
    },
    {
     "name": "stderr",
     "output_type": "stream",
     "text": [
      "Train Epoch 30/200: 100%|█████████████████████████████████████████████████████████████████| 27/27 [00:32<00:00,  1.19s/it]\n",
      "Val Epoch 30/200: 100%|███████████████████████████████████████████████████████████████████| 27/27 [00:12<00:00,  2.11it/s]\n"
     ]
    },
    {
     "name": "stdout",
     "output_type": "stream",
     "text": [
      "val Loss: 0.3249 Acc: 0.8854, f1:0.8456, recall:0.8950 \n",
      "Learning rate changed: 0.000001\n"
     ]
    },
    {
     "name": "stderr",
     "output_type": "stream",
     "text": [
      "Train Epoch 31/200: 100%|█████████████████████████████████████████████████████████████████| 27/27 [00:32<00:00,  1.20s/it]\n",
      "Val Epoch 31/200: 100%|███████████████████████████████████████████████████████████████████| 27/27 [00:12<00:00,  2.12it/s]\n"
     ]
    },
    {
     "name": "stdout",
     "output_type": "stream",
     "text": [
      "val Loss: 0.3177 Acc: 0.8901, f1:0.8545, recall:0.8924 \n"
     ]
    },
    {
     "name": "stderr",
     "output_type": "stream",
     "text": [
      "Train Epoch 32/200: 100%|█████████████████████████████████████████████████████████████████| 27/27 [00:31<00:00,  1.16s/it]\n",
      "Val Epoch 32/200: 100%|███████████████████████████████████████████████████████████████████| 27/27 [00:12<00:00,  2.12it/s]\n"
     ]
    },
    {
     "name": "stdout",
     "output_type": "stream",
     "text": [
      "val Loss: 0.3209 Acc: 0.8912, f1:0.8515, recall:0.8984 \n"
     ]
    },
    {
     "name": "stderr",
     "output_type": "stream",
     "text": [
      "Train Epoch 33/200: 100%|█████████████████████████████████████████████████████████████████| 27/27 [00:32<00:00,  1.22s/it]\n",
      "Val Epoch 33/200: 100%|███████████████████████████████████████████████████████████████████| 27/27 [00:12<00:00,  2.14it/s]\n"
     ]
    },
    {
     "name": "stdout",
     "output_type": "stream",
     "text": [
      "val Loss: 0.3513 Acc: 0.8749, f1:0.8365, recall:0.8886 \n"
     ]
    },
    {
     "name": "stderr",
     "output_type": "stream",
     "text": [
      "Train Epoch 34/200: 100%|█████████████████████████████████████████████████████████████████| 27/27 [00:31<00:00,  1.16s/it]\n",
      "Val Epoch 34/200: 100%|███████████████████████████████████████████████████████████████████| 27/27 [00:12<00:00,  2.14it/s]\n"
     ]
    },
    {
     "name": "stdout",
     "output_type": "stream",
     "text": [
      "val Loss: 0.3265 Acc: 0.8889, f1:0.8526, recall:0.8969 \n"
     ]
    },
    {
     "name": "stderr",
     "output_type": "stream",
     "text": [
      "Train Epoch 35/200: 100%|█████████████████████████████████████████████████████████████████| 27/27 [00:32<00:00,  1.19s/it]\n",
      "Val Epoch 35/200: 100%|███████████████████████████████████████████████████████████████████| 27/27 [00:12<00:00,  2.09it/s]\n"
     ]
    },
    {
     "name": "stdout",
     "output_type": "stream",
     "text": [
      "val Loss: 0.3411 Acc: 0.8760, f1:0.8327, recall:0.8892 \n"
     ]
    },
    {
     "name": "stderr",
     "output_type": "stream",
     "text": [
      "Train Epoch 36/200: 100%|█████████████████████████████████████████████████████████████████| 27/27 [00:31<00:00,  1.16s/it]\n",
      "Val Epoch 36/200: 100%|███████████████████████████████████████████████████████████████████| 27/27 [00:12<00:00,  2.13it/s]\n"
     ]
    },
    {
     "name": "stdout",
     "output_type": "stream",
     "text": [
      "val Loss: 0.3143 Acc: 0.8936, f1:0.8588, recall:0.8998 \n",
      "Learning rate changed: 0.000000\n"
     ]
    },
    {
     "name": "stderr",
     "output_type": "stream",
     "text": [
      "Train Epoch 37/200: 100%|█████████████████████████████████████████████████████████████████| 27/27 [00:31<00:00,  1.16s/it]\n",
      "Val Epoch 37/200: 100%|███████████████████████████████████████████████████████████████████| 27/27 [00:12<00:00,  2.12it/s]\n"
     ]
    },
    {
     "name": "stdout",
     "output_type": "stream",
     "text": [
      "val Loss: 0.3162 Acc: 0.8889, f1:0.8529, recall:0.8918 \n"
     ]
    },
    {
     "name": "stderr",
     "output_type": "stream",
     "text": [
      "Train Epoch 38/200: 100%|█████████████████████████████████████████████████████████████████| 27/27 [00:31<00:00,  1.16s/it]\n",
      "Val Epoch 38/200: 100%|███████████████████████████████████████████████████████████████████| 27/27 [00:12<00:00,  2.14it/s]\n"
     ]
    },
    {
     "name": "stdout",
     "output_type": "stream",
     "text": [
      "val Loss: 0.3146 Acc: 0.8936, f1:0.8601, recall:0.8946 \n"
     ]
    },
    {
     "name": "stderr",
     "output_type": "stream",
     "text": [
      "Train Epoch 39/200: 100%|█████████████████████████████████████████████████████████████████| 27/27 [00:31<00:00,  1.16s/it]\n",
      "Val Epoch 39/200: 100%|███████████████████████████████████████████████████████████████████| 27/27 [00:12<00:00,  2.12it/s]\n"
     ]
    },
    {
     "name": "stdout",
     "output_type": "stream",
     "text": [
      "val Loss: 0.3140 Acc: 0.8912, f1:0.8534, recall:0.8932 \n"
     ]
    },
    {
     "name": "stderr",
     "output_type": "stream",
     "text": [
      "Train Epoch 40/200: 100%|█████████████████████████████████████████████████████████████████| 27/27 [00:31<00:00,  1.16s/it]\n",
      "Val Epoch 40/200: 100%|███████████████████████████████████████████████████████████████████| 27/27 [00:12<00:00,  2.14it/s]\n"
     ]
    },
    {
     "name": "stdout",
     "output_type": "stream",
     "text": [
      "val Loss: 0.3481 Acc: 0.8713, f1:0.8284, recall:0.8864 \n"
     ]
    },
    {
     "name": "stderr",
     "output_type": "stream",
     "text": [
      "Train Epoch 41/200: 100%|█████████████████████████████████████████████████████████████████| 27/27 [00:31<00:00,  1.16s/it]\n",
      "Val Epoch 41/200: 100%|███████████████████████████████████████████████████████████████████| 27/27 [00:12<00:00,  2.14it/s]\n"
     ]
    },
    {
     "name": "stdout",
     "output_type": "stream",
     "text": [
      "val Loss: 0.3292 Acc: 0.8865, f1:0.8475, recall:0.8955 \n"
     ]
    },
    {
     "name": "stderr",
     "output_type": "stream",
     "text": [
      "Train Epoch 42/200: 100%|█████████████████████████████████████████████████████████████████| 27/27 [00:31<00:00,  1.16s/it]\n",
      "Val Epoch 42/200: 100%|███████████████████████████████████████████████████████████████████| 27/27 [00:12<00:00,  2.14it/s]\n"
     ]
    },
    {
     "name": "stdout",
     "output_type": "stream",
     "text": [
      "val Loss: 0.3070 Acc: 0.8924, f1:0.8577, recall:0.8939 \n",
      "Learning rate changed: 0.000000\n"
     ]
    },
    {
     "name": "stderr",
     "output_type": "stream",
     "text": [
      "Train Epoch 43/200: 100%|█████████████████████████████████████████████████████████████████| 27/27 [00:31<00:00,  1.16s/it]\n",
      "Val Epoch 43/200: 100%|███████████████████████████████████████████████████████████████████| 27/27 [00:12<00:00,  2.12it/s]\n"
     ]
    },
    {
     "name": "stdout",
     "output_type": "stream",
     "text": [
      "val Loss: 0.3471 Acc: 0.8725, f1:0.8316, recall:0.8870 \n"
     ]
    },
    {
     "name": "stderr",
     "output_type": "stream",
     "text": [
      "Train Epoch 44/200: 100%|█████████████████████████████████████████████████████████████████| 27/27 [00:31<00:00,  1.17s/it]\n",
      "Val Epoch 44/200: 100%|███████████████████████████████████████████████████████████████████| 27/27 [00:12<00:00,  2.14it/s]\n"
     ]
    },
    {
     "name": "stdout",
     "output_type": "stream",
     "text": [
      "val Loss: 0.3252 Acc: 0.8854, f1:0.8472, recall:0.8896 \n"
     ]
    },
    {
     "name": "stderr",
     "output_type": "stream",
     "text": [
      "Train Epoch 45/200: 100%|█████████████████████████████████████████████████████████████████| 27/27 [00:31<00:00,  1.16s/it]\n",
      "Val Epoch 45/200: 100%|███████████████████████████████████████████████████████████████████| 27/27 [00:12<00:00,  2.13it/s]\n"
     ]
    },
    {
     "name": "stdout",
     "output_type": "stream",
     "text": [
      "val Loss: 0.3181 Acc: 0.8936, f1:0.8575, recall:0.8945 \n"
     ]
    },
    {
     "name": "stderr",
     "output_type": "stream",
     "text": [
      "Train Epoch 46/200: 100%|█████████████████████████████████████████████████████████████████| 27/27 [00:31<00:00,  1.17s/it]\n",
      "Val Epoch 46/200: 100%|███████████████████████████████████████████████████████████████████| 27/27 [00:12<00:00,  2.14it/s]\n"
     ]
    },
    {
     "name": "stdout",
     "output_type": "stream",
     "text": [
      "val Loss: 0.3256 Acc: 0.8842, f1:0.8459, recall:0.8889 \n"
     ]
    },
    {
     "name": "stderr",
     "output_type": "stream",
     "text": [
      "Train Epoch 47/200: 100%|█████████████████████████████████████████████████████████████████| 27/27 [00:31<00:00,  1.16s/it]\n",
      "Val Epoch 47/200: 100%|███████████████████████████████████████████████████████████████████| 27/27 [00:12<00:00,  2.14it/s]\n"
     ]
    },
    {
     "name": "stdout",
     "output_type": "stream",
     "text": [
      "val Loss: 0.3295 Acc: 0.8842, f1:0.8446, recall:0.8941 \n"
     ]
    },
    {
     "name": "stderr",
     "output_type": "stream",
     "text": [
      "Train Epoch 48/200: 100%|█████████████████████████████████████████████████████████████████| 27/27 [00:31<00:00,  1.17s/it]\n",
      "Val Epoch 48/200: 100%|███████████████████████████████████████████████████████████████████| 27/27 [00:12<00:00,  2.13it/s]\n"
     ]
    },
    {
     "name": "stdout",
     "output_type": "stream",
     "text": [
      "val Loss: 0.3268 Acc: 0.8901, f1:0.8502, recall:0.8978 \n"
     ]
    },
    {
     "name": "stderr",
     "output_type": "stream",
     "text": [
      "Train Epoch 49/200: 100%|█████████████████████████████████████████████████████████████████| 27/27 [00:31<00:00,  1.16s/it]\n",
      "Val Epoch 49/200: 100%|███████████████████████████████████████████████████████████████████| 27/27 [00:12<00:00,  2.14it/s]\n"
     ]
    },
    {
     "name": "stdout",
     "output_type": "stream",
     "text": [
      "val Loss: 0.3275 Acc: 0.8901, f1:0.8508, recall:0.8977 \n"
     ]
    },
    {
     "name": "stderr",
     "output_type": "stream",
     "text": [
      "Train Epoch 50/200: 100%|█████████████████████████████████████████████████████████████████| 27/27 [00:31<00:00,  1.16s/it]\n",
      "Val Epoch 50/200: 100%|███████████████████████████████████████████████████████████████████| 27/27 [00:12<00:00,  2.11it/s]\n"
     ]
    },
    {
     "name": "stdout",
     "output_type": "stream",
     "text": [
      "val Loss: 0.3199 Acc: 0.8912, f1:0.8545, recall:0.8931 \n"
     ]
    },
    {
     "name": "stderr",
     "output_type": "stream",
     "text": [
      "Train Epoch 51/200: 100%|█████████████████████████████████████████████████████████████████| 27/27 [00:31<00:00,  1.16s/it]\n",
      "Val Epoch 51/200: 100%|███████████████████████████████████████████████████████████████████| 27/27 [00:12<00:00,  2.13it/s]\n"
     ]
    },
    {
     "name": "stdout",
     "output_type": "stream",
     "text": [
      "val Loss: 0.3243 Acc: 0.8912, f1:0.8511, recall:0.8931 \n"
     ]
    },
    {
     "name": "stderr",
     "output_type": "stream",
     "text": [
      "Train Epoch 52/200: 100%|█████████████████████████████████████████████████████████████████| 27/27 [00:32<00:00,  1.19s/it]\n",
      "Val Epoch 52/200: 100%|███████████████████████████████████████████████████████████████████| 27/27 [00:12<00:00,  2.14it/s]\n"
     ]
    },
    {
     "name": "stdout",
     "output_type": "stream",
     "text": [
      "val Loss: 0.3378 Acc: 0.8784, f1:0.8361, recall:0.8907 \n"
     ]
    },
    {
     "name": "stderr",
     "output_type": "stream",
     "text": [
      "Train Epoch 53/200: 100%|█████████████████████████████████████████████████████████████████| 27/27 [00:31<00:00,  1.16s/it]\n",
      "Val Epoch 53/200: 100%|███████████████████████████████████████████████████████████████████| 27/27 [00:12<00:00,  2.11it/s]\n"
     ]
    },
    {
     "name": "stdout",
     "output_type": "stream",
     "text": [
      "val Loss: 0.3170 Acc: 0.8889, f1:0.8520, recall:0.8917 \n"
     ]
    },
    {
     "name": "stderr",
     "output_type": "stream",
     "text": [
      "Train Epoch 54/200: 100%|█████████████████████████████████████████████████████████████████| 27/27 [00:31<00:00,  1.16s/it]\n",
      "Val Epoch 54/200: 100%|███████████████████████████████████████████████████████████████████| 27/27 [00:12<00:00,  2.16it/s]\n"
     ]
    },
    {
     "name": "stdout",
     "output_type": "stream",
     "text": [
      "val Loss: 0.3299 Acc: 0.8854, f1:0.8508, recall:0.8951 \n"
     ]
    },
    {
     "name": "stderr",
     "output_type": "stream",
     "text": [
      "Train Epoch 55/200: 100%|█████████████████████████████████████████████████████████████████| 27/27 [00:31<00:00,  1.17s/it]\n",
      "Val Epoch 55/200: 100%|███████████████████████████████████████████████████████████████████| 27/27 [00:12<00:00,  2.11it/s]\n"
     ]
    },
    {
     "name": "stdout",
     "output_type": "stream",
     "text": [
      "val Loss: 0.3172 Acc: 0.8947, f1:0.8619, recall:0.8952 \n"
     ]
    },
    {
     "name": "stderr",
     "output_type": "stream",
     "text": [
      "Train Epoch 56/200: 100%|█████████████████████████████████████████████████████████████████| 27/27 [00:32<00:00,  1.20s/it]\n",
      "Val Epoch 56/200: 100%|███████████████████████████████████████████████████████████████████| 27/27 [00:12<00:00,  2.13it/s]\n"
     ]
    },
    {
     "name": "stdout",
     "output_type": "stream",
     "text": [
      "val Loss: 0.3464 Acc: 0.8725, f1:0.8283, recall:0.8871 \n"
     ]
    },
    {
     "name": "stderr",
     "output_type": "stream",
     "text": [
      "Train Epoch 57/200: 100%|█████████████████████████████████████████████████████████████████| 27/27 [00:32<00:00,  1.21s/it]\n",
      "Val Epoch 57/200: 100%|███████████████████████████████████████████████████████████████████| 27/27 [00:12<00:00,  2.13it/s]\n"
     ]
    },
    {
     "name": "stdout",
     "output_type": "stream",
     "text": [
      "val Loss: 0.3250 Acc: 0.8854, f1:0.8463, recall:0.8896 \n"
     ]
    },
    {
     "name": "stderr",
     "output_type": "stream",
     "text": [
      "Train Epoch 58/200: 100%|█████████████████████████████████████████████████████████████████| 27/27 [00:32<00:00,  1.20s/it]\n",
      "Val Epoch 58/200: 100%|███████████████████████████████████████████████████████████████████| 27/27 [00:12<00:00,  2.12it/s]\n"
     ]
    },
    {
     "name": "stdout",
     "output_type": "stream",
     "text": [
      "val Loss: 0.3199 Acc: 0.8854, f1:0.8485, recall:0.8949 \n"
     ]
    },
    {
     "name": "stderr",
     "output_type": "stream",
     "text": [
      "Train Epoch 59/200: 100%|█████████████████████████████████████████████████████████████████| 27/27 [00:32<00:00,  1.20s/it]\n",
      "Val Epoch 59/200: 100%|███████████████████████████████████████████████████████████████████| 27/27 [00:12<00:00,  2.08it/s]\n"
     ]
    },
    {
     "name": "stdout",
     "output_type": "stream",
     "text": [
      "val Loss: 0.3354 Acc: 0.8807, f1:0.8379, recall:0.8920 \n"
     ]
    },
    {
     "name": "stderr",
     "output_type": "stream",
     "text": [
      "Train Epoch 60/200: 100%|█████████████████████████████████████████████████████████████████| 27/27 [00:32<00:00,  1.20s/it]\n",
      "Val Epoch 60/200: 100%|███████████████████████████████████████████████████████████████████| 27/27 [00:12<00:00,  2.14it/s]\n"
     ]
    },
    {
     "name": "stdout",
     "output_type": "stream",
     "text": [
      "val Loss: 0.3036 Acc: 0.8959, f1:0.8627, recall:0.9013 \n"
     ]
    },
    {
     "name": "stderr",
     "output_type": "stream",
     "text": [
      "Train Epoch 61/200: 100%|█████████████████████████████████████████████████████████████████| 27/27 [00:31<00:00,  1.16s/it]\n",
      "Val Epoch 61/200: 100%|███████████████████████████████████████████████████████████████████| 27/27 [00:13<00:00,  2.07it/s]\n"
     ]
    },
    {
     "name": "stdout",
     "output_type": "stream",
     "text": [
      "val Loss: 0.3214 Acc: 0.8901, f1:0.8546, recall:0.8924 \n"
     ]
    },
    {
     "name": "stderr",
     "output_type": "stream",
     "text": [
      "Train Epoch 62/200: 100%|█████████████████████████████████████████████████████████████████| 27/27 [00:31<00:00,  1.16s/it]\n",
      "Val Epoch 62/200: 100%|███████████████████████████████████████████████████████████████████| 27/27 [00:12<00:00,  2.14it/s]"
     ]
    },
    {
     "name": "stdout",
     "output_type": "stream",
     "text": [
      "val Loss: 0.3077 Acc: 0.8936, f1:0.8566, recall:0.8946 \n",
      "Early stopping triggered after 62 epochs without improvement.\n"
     ]
    },
    {
     "name": "stderr",
     "output_type": "stream",
     "text": [
      "\n"
     ]
    }
   ],
   "source": [
    "# Train the model\n",
    "model = train_model(model, criterion, optimizer, exp_lr_scheduler, num_epochs=200)"
   ]
  },
  {
   "cell_type": "code",
   "execution_count": 25,
   "metadata": {},
   "outputs": [],
   "source": [
    "# Save the model\n",
    "torch.save(model.state_dict(), 'best_model_v3.pth')"
   ]
  },
  {
   "cell_type": "markdown",
   "metadata": {},
   "source": [
    "### Partial Freezing on layer4"
   ]
  },
  {
   "cell_type": "code",
   "execution_count": 26,
   "metadata": {},
   "outputs": [
    {
     "name": "stderr",
     "output_type": "stream",
     "text": [
      "/Users/patsnap/miniforge3/envs/tf_env/lib/python3.8/site-packages/torchvision/models/_utils.py:208: UserWarning: The parameter 'pretrained' is deprecated since 0.13 and may be removed in the future, please use 'weights' instead.\n",
      "  warnings.warn(\n",
      "/Users/patsnap/miniforge3/envs/tf_env/lib/python3.8/site-packages/torchvision/models/_utils.py:223: UserWarning: Arguments other than a weight enum or `None` for 'weights' are deprecated since 0.13 and may be removed in the future. The current behavior is equivalent to passing `weights=ResNet50_Weights.IMAGENET1K_V1`. You can also use `weights=ResNet50_Weights.DEFAULT` to get the most up-to-date weights.\n",
      "  warnings.warn(msg)\n",
      "/Users/patsnap/miniforge3/envs/tf_env/lib/python3.8/site-packages/torch/optim/lr_scheduler.py:28: UserWarning: The verbose parameter is deprecated. Please use get_last_lr() to access the learning rate.\n",
      "  warnings.warn(\"The verbose parameter is deprecated. Please use get_last_lr() \"\n"
     ]
    }
   ],
   "source": [
    "model = models.resnet50(pretrained=True)\n",
    "for param in model.parameters():\n",
    "    param.requires_grad = False\n",
    "\n",
    "num_ftrs = model.fc.in_features\n",
    "model.fc = nn.Linear(num_ftrs, len(class_names)) \n",
    "\n",
    "#fine tuned the last block\n",
    "for name, param in model.named_parameters():\n",
    "    if \"layer4\" in name:  \n",
    "        param.requires_grad = True\n",
    "model = model.to(device)\n",
    "\n",
    "weighted_ratio = [round(len(train_dataset)/len(glob.glob(base_path+f'train/{cl_name}/*.png')),1) for cl_name in class_names]\n",
    "\n",
    "class_weights = torch.tensor(weighted_ratio).to(device)  \n",
    "criterion = nn.CrossEntropyLoss(weight=class_weights)\n",
    "criterion = nn.CrossEntropyLoss()\n",
    "\n",
    "# Define optimizer and learning rate scheduler\n",
    "optimizer = optim.SGD(model.parameters(), lr=0.001, momentum=0.9)\n",
    "exp_lr_scheduler = lr_scheduler.ReduceLROnPlateau(optimizer, mode='min', factor=0.1, patience=5, verbose=True)"
   ]
  },
  {
   "cell_type": "code",
   "execution_count": 27,
   "metadata": {
    "scrolled": true
   },
   "outputs": [
    {
     "name": "stderr",
     "output_type": "stream",
     "text": [
      "Train Epoch 1/200: 100%|██████████████████████████████████████████████████████████████████| 27/27 [00:26<00:00,  1.03it/s]\n",
      "Val Epoch 1/200: 100%|████████████████████████████████████████████████████████████████████| 27/27 [00:12<00:00,  2.12it/s]\n"
     ]
    },
    {
     "name": "stdout",
     "output_type": "stream",
     "text": [
      "val Loss: 0.6461 Acc: 0.7848, f1:0.5986, recall:0.6452 \n",
      "Learning rate changed: 0.001000\n",
      "epoch: 1, best_model_wts save\n"
     ]
    },
    {
     "name": "stderr",
     "output_type": "stream",
     "text": [
      "Train Epoch 2/200: 100%|██████████████████████████████████████████████████████████████████| 27/27 [00:26<00:00,  1.04it/s]\n",
      "Val Epoch 2/200: 100%|████████████████████████████████████████████████████████████████████| 27/27 [00:12<00:00,  2.13it/s]\n"
     ]
    },
    {
     "name": "stdout",
     "output_type": "stream",
     "text": [
      "val Loss: 0.5412 Acc: 0.7789, f1:0.6430, recall:0.6763 \n",
      "epoch: 2, best_model_wts save\n"
     ]
    },
    {
     "name": "stderr",
     "output_type": "stream",
     "text": [
      "Train Epoch 3/200: 100%|██████████████████████████████████████████████████████████████████| 27/27 [00:25<00:00,  1.04it/s]\n",
      "Val Epoch 3/200: 100%|████████████████████████████████████████████████████████████████████| 27/27 [00:12<00:00,  2.13it/s]\n"
     ]
    },
    {
     "name": "stdout",
     "output_type": "stream",
     "text": [
      "val Loss: 0.4792 Acc: 0.8211, f1:0.7332, recall:0.7543 \n",
      "epoch: 3, best_model_wts save\n"
     ]
    },
    {
     "name": "stderr",
     "output_type": "stream",
     "text": [
      "Train Epoch 4/200: 100%|██████████████████████████████████████████████████████████████████| 27/27 [00:26<00:00,  1.03it/s]\n",
      "Val Epoch 4/200: 100%|████████████████████████████████████████████████████████████████████| 27/27 [00:12<00:00,  2.13it/s]\n"
     ]
    },
    {
     "name": "stdout",
     "output_type": "stream",
     "text": [
      "val Loss: 0.4378 Acc: 0.8304, f1:0.7607, recall:0.7967 \n",
      "epoch: 4, best_model_wts save\n"
     ]
    },
    {
     "name": "stderr",
     "output_type": "stream",
     "text": [
      "Train Epoch 5/200: 100%|██████████████████████████████████████████████████████████████████| 27/27 [00:25<00:00,  1.04it/s]\n",
      "Val Epoch 5/200: 100%|████████████████████████████████████████████████████████████████████| 27/27 [00:12<00:00,  2.13it/s]\n"
     ]
    },
    {
     "name": "stdout",
     "output_type": "stream",
     "text": [
      "val Loss: 0.5062 Acc: 0.8117, f1:0.7490, recall:0.8031 \n"
     ]
    },
    {
     "name": "stderr",
     "output_type": "stream",
     "text": [
      "Train Epoch 6/200: 100%|██████████████████████████████████████████████████████████████████| 27/27 [00:25<00:00,  1.04it/s]\n",
      "Val Epoch 6/200: 100%|████████████████████████████████████████████████████████████████████| 27/27 [00:12<00:00,  2.12it/s]\n"
     ]
    },
    {
     "name": "stdout",
     "output_type": "stream",
     "text": [
      "val Loss: 0.4793 Acc: 0.8199, f1:0.7647, recall:0.8185 \n"
     ]
    },
    {
     "name": "stderr",
     "output_type": "stream",
     "text": [
      "Train Epoch 7/200: 100%|██████████████████████████████████████████████████████████████████| 27/27 [00:26<00:00,  1.03it/s]\n",
      "Val Epoch 7/200: 100%|████████████████████████████████████████████████████████████████████| 27/27 [00:12<00:00,  2.14it/s]\n"
     ]
    },
    {
     "name": "stdout",
     "output_type": "stream",
     "text": [
      "val Loss: 0.4096 Acc: 0.8327, f1:0.7662, recall:0.8138 \n",
      "epoch: 7, best_model_wts save\n"
     ]
    },
    {
     "name": "stderr",
     "output_type": "stream",
     "text": [
      "Train Epoch 8/200: 100%|██████████████████████████████████████████████████████████████████| 27/27 [00:26<00:00,  1.00it/s]\n",
      "Val Epoch 8/200: 100%|████████████████████████████████████████████████████████████████████| 27/27 [00:12<00:00,  2.11it/s]\n"
     ]
    },
    {
     "name": "stdout",
     "output_type": "stream",
     "text": [
      "val Loss: 0.4776 Acc: 0.8234, f1:0.7715, recall:0.8417 \n"
     ]
    },
    {
     "name": "stderr",
     "output_type": "stream",
     "text": [
      "Train Epoch 9/200: 100%|██████████████████████████████████████████████████████████████████| 27/27 [00:26<00:00,  1.03it/s]\n",
      "Val Epoch 9/200: 100%|████████████████████████████████████████████████████████████████████| 27/27 [00:12<00:00,  2.11it/s]\n"
     ]
    },
    {
     "name": "stdout",
     "output_type": "stream",
     "text": [
      "val Loss: 0.3862 Acc: 0.8480, f1:0.7949, recall:0.8511 \n",
      "epoch: 9, best_model_wts save\n"
     ]
    },
    {
     "name": "stderr",
     "output_type": "stream",
     "text": [
      "Train Epoch 10/200: 100%|█████████████████████████████████████████████████████████████████| 27/27 [00:26<00:00,  1.03it/s]\n",
      "Val Epoch 10/200: 100%|███████████████████████████████████████████████████████████████████| 27/27 [00:12<00:00,  2.12it/s]\n"
     ]
    },
    {
     "name": "stdout",
     "output_type": "stream",
     "text": [
      "val Loss: 0.3681 Acc: 0.8480, f1:0.7886, recall:0.8302 \n",
      "epoch: 10, best_model_wts save\n"
     ]
    },
    {
     "name": "stderr",
     "output_type": "stream",
     "text": [
      "Train Epoch 11/200: 100%|█████████████████████████████████████████████████████████████████| 27/27 [00:27<00:00,  1.01s/it]\n",
      "Val Epoch 11/200: 100%|███████████████████████████████████████████████████████████████████| 27/27 [00:12<00:00,  2.14it/s]\n"
     ]
    },
    {
     "name": "stdout",
     "output_type": "stream",
     "text": [
      "val Loss: 0.4468 Acc: 0.8269, f1:0.7702, recall:0.8488 \n"
     ]
    },
    {
     "name": "stderr",
     "output_type": "stream",
     "text": [
      "Train Epoch 12/200: 100%|█████████████████████████████████████████████████████████████████| 27/27 [00:25<00:00,  1.04it/s]\n",
      "Val Epoch 12/200: 100%|███████████████████████████████████████████████████████████████████| 27/27 [00:12<00:00,  2.10it/s]\n"
     ]
    },
    {
     "name": "stdout",
     "output_type": "stream",
     "text": [
      "val Loss: 0.4698 Acc: 0.8316, f1:0.7693, recall:0.8413 \n"
     ]
    },
    {
     "name": "stderr",
     "output_type": "stream",
     "text": [
      "Train Epoch 13/200: 100%|█████████████████████████████████████████████████████████████████| 27/27 [00:25<00:00,  1.04it/s]\n",
      "Val Epoch 13/200: 100%|███████████████████████████████████████████████████████████████████| 27/27 [00:12<00:00,  2.12it/s]\n"
     ]
    },
    {
     "name": "stdout",
     "output_type": "stream",
     "text": [
      "val Loss: 0.3811 Acc: 0.8515, f1:0.7973, recall:0.8534 \n"
     ]
    },
    {
     "name": "stderr",
     "output_type": "stream",
     "text": [
      "Train Epoch 14/200: 100%|█████████████████████████████████████████████████████████████████| 27/27 [00:25<00:00,  1.04it/s]\n",
      "Val Epoch 14/200: 100%|███████████████████████████████████████████████████████████████████| 27/27 [00:12<00:00,  2.10it/s]\n"
     ]
    },
    {
     "name": "stdout",
     "output_type": "stream",
     "text": [
      "val Loss: 0.4278 Acc: 0.8374, f1:0.7776, recall:0.8500 \n"
     ]
    },
    {
     "name": "stderr",
     "output_type": "stream",
     "text": [
      "Train Epoch 15/200: 100%|█████████████████████████████████████████████████████████████████| 27/27 [00:25<00:00,  1.05it/s]\n",
      "Val Epoch 15/200: 100%|███████████████████████████████████████████████████████████████████| 27/27 [00:12<00:00,  2.10it/s]\n"
     ]
    },
    {
     "name": "stdout",
     "output_type": "stream",
     "text": [
      "val Loss: 0.4963 Acc: 0.8339, f1:0.7782, recall:0.8427 \n"
     ]
    },
    {
     "name": "stderr",
     "output_type": "stream",
     "text": [
      "Train Epoch 16/200: 100%|█████████████████████████████████████████████████████████████████| 27/27 [00:25<00:00,  1.04it/s]\n",
      "Val Epoch 16/200: 100%|███████████████████████████████████████████████████████████████████| 27/27 [00:12<00:00,  2.13it/s]\n"
     ]
    },
    {
     "name": "stdout",
     "output_type": "stream",
     "text": [
      "val Loss: 0.4098 Acc: 0.8550, f1:0.8008, recall:0.8554 \n",
      "Learning rate changed: 0.000100\n"
     ]
    },
    {
     "name": "stderr",
     "output_type": "stream",
     "text": [
      "Train Epoch 17/200: 100%|█████████████████████████████████████████████████████████████████| 27/27 [00:26<00:00,  1.03it/s]\n",
      "Val Epoch 17/200: 100%|███████████████████████████████████████████████████████████████████| 27/27 [00:12<00:00,  2.08it/s]\n"
     ]
    },
    {
     "name": "stdout",
     "output_type": "stream",
     "text": [
      "val Loss: 0.3816 Acc: 0.8620, f1:0.8150, recall:0.8596 \n"
     ]
    },
    {
     "name": "stderr",
     "output_type": "stream",
     "text": [
      "Train Epoch 18/200: 100%|█████████████████████████████████████████████████████████████████| 27/27 [00:26<00:00,  1.02it/s]\n",
      "Val Epoch 18/200: 100%|███████████████████████████████████████████████████████████████████| 27/27 [00:12<00:00,  2.08it/s]\n"
     ]
    },
    {
     "name": "stdout",
     "output_type": "stream",
     "text": [
      "val Loss: 0.4194 Acc: 0.8550, f1:0.8055, recall:0.8553 \n"
     ]
    },
    {
     "name": "stderr",
     "output_type": "stream",
     "text": [
      "Train Epoch 19/200: 100%|█████████████████████████████████████████████████████████████████| 27/27 [00:26<00:00,  1.02it/s]\n",
      "Val Epoch 19/200: 100%|███████████████████████████████████████████████████████████████████| 27/27 [00:12<00:00,  2.13it/s]\n"
     ]
    },
    {
     "name": "stdout",
     "output_type": "stream",
     "text": [
      "val Loss: 0.4249 Acc: 0.8468, f1:0.7906, recall:0.8663 \n"
     ]
    },
    {
     "name": "stderr",
     "output_type": "stream",
     "text": [
      "Train Epoch 20/200: 100%|█████████████████████████████████████████████████████████████████| 27/27 [00:26<00:00,  1.03it/s]\n",
      "Val Epoch 20/200: 100%|███████████████████████████████████████████████████████████████████| 27/27 [00:12<00:00,  2.13it/s]\n"
     ]
    },
    {
     "name": "stdout",
     "output_type": "stream",
     "text": [
      "val Loss: 0.4183 Acc: 0.8550, f1:0.8026, recall:0.8553 \n"
     ]
    },
    {
     "name": "stderr",
     "output_type": "stream",
     "text": [
      "Train Epoch 21/200: 100%|█████████████████████████████████████████████████████████████████| 27/27 [00:25<00:00,  1.04it/s]\n",
      "Val Epoch 21/200: 100%|███████████████████████████████████████████████████████████████████| 27/27 [00:12<00:00,  2.14it/s]\n"
     ]
    },
    {
     "name": "stdout",
     "output_type": "stream",
     "text": [
      "val Loss: 0.4225 Acc: 0.8491, f1:0.7961, recall:0.8571 \n"
     ]
    },
    {
     "name": "stderr",
     "output_type": "stream",
     "text": [
      "Train Epoch 22/200: 100%|█████████████████████████████████████████████████████████████████| 27/27 [00:26<00:00,  1.02it/s]\n",
      "Val Epoch 22/200: 100%|███████████████████████████████████████████████████████████████████| 27/27 [00:12<00:00,  2.09it/s]\n"
     ]
    },
    {
     "name": "stdout",
     "output_type": "stream",
     "text": [
      "val Loss: 0.4214 Acc: 0.8573, f1:0.8061, recall:0.8567 \n",
      "Learning rate changed: 0.000010\n"
     ]
    },
    {
     "name": "stderr",
     "output_type": "stream",
     "text": [
      "Train Epoch 23/200: 100%|█████████████████████████████████████████████████████████████████| 27/27 [00:25<00:00,  1.04it/s]\n",
      "Val Epoch 23/200: 100%|███████████████████████████████████████████████████████████████████| 27/27 [00:12<00:00,  2.12it/s]\n"
     ]
    },
    {
     "name": "stdout",
     "output_type": "stream",
     "text": [
      "val Loss: 0.4339 Acc: 0.8561, f1:0.8036, recall:0.8560 \n"
     ]
    },
    {
     "name": "stderr",
     "output_type": "stream",
     "text": [
      "Train Epoch 24/200: 100%|█████████████████████████████████████████████████████████████████| 27/27 [00:25<00:00,  1.04it/s]\n",
      "Val Epoch 24/200: 100%|███████████████████████████████████████████████████████████████████| 27/27 [00:12<00:00,  2.13it/s]\n"
     ]
    },
    {
     "name": "stdout",
     "output_type": "stream",
     "text": [
      "val Loss: 0.4479 Acc: 0.8515, f1:0.7993, recall:0.8532 \n"
     ]
    },
    {
     "name": "stderr",
     "output_type": "stream",
     "text": [
      "Train Epoch 25/200: 100%|█████████████████████████████████████████████████████████████████| 27/27 [00:26<00:00,  1.03it/s]\n",
      "Val Epoch 25/200: 100%|███████████████████████████████████████████████████████████████████| 27/27 [00:12<00:00,  2.14it/s]\n"
     ]
    },
    {
     "name": "stdout",
     "output_type": "stream",
     "text": [
      "val Loss: 0.4630 Acc: 0.8409, f1:0.7860, recall:0.8574 \n"
     ]
    },
    {
     "name": "stderr",
     "output_type": "stream",
     "text": [
      "Train Epoch 26/200: 100%|█████████████████████████████████████████████████████████████████| 27/27 [00:26<00:00,  1.04it/s]\n",
      "Val Epoch 26/200: 100%|███████████████████████████████████████████████████████████████████| 27/27 [00:12<00:00,  2.15it/s]\n"
     ]
    },
    {
     "name": "stdout",
     "output_type": "stream",
     "text": [
      "val Loss: 0.4196 Acc: 0.8561, f1:0.8030, recall:0.8561 \n"
     ]
    },
    {
     "name": "stderr",
     "output_type": "stream",
     "text": [
      "Train Epoch 27/200: 100%|█████████████████████████████████████████████████████████████████| 27/27 [00:27<00:00,  1.03s/it]\n",
      "Val Epoch 27/200: 100%|███████████████████████████████████████████████████████████████████| 27/27 [00:12<00:00,  2.12it/s]\n"
     ]
    },
    {
     "name": "stdout",
     "output_type": "stream",
     "text": [
      "val Loss: 0.4082 Acc: 0.8561, f1:0.7993, recall:0.8561 \n"
     ]
    },
    {
     "name": "stderr",
     "output_type": "stream",
     "text": [
      "Train Epoch 28/200: 100%|█████████████████████████████████████████████████████████████████| 27/27 [00:26<00:00,  1.04it/s]\n",
      "Val Epoch 28/200: 100%|███████████████████████████████████████████████████████████████████| 27/27 [00:12<00:00,  2.10it/s]\n"
     ]
    },
    {
     "name": "stdout",
     "output_type": "stream",
     "text": [
      "val Loss: 0.4415 Acc: 0.8444, f1:0.7885, recall:0.8596 \n",
      "Learning rate changed: 0.000001\n"
     ]
    },
    {
     "name": "stderr",
     "output_type": "stream",
     "text": [
      "Train Epoch 29/200: 100%|█████████████████████████████████████████████████████████████████| 27/27 [00:26<00:00,  1.03it/s]\n",
      "Val Epoch 29/200: 100%|███████████████████████████████████████████████████████████████████| 27/27 [00:12<00:00,  2.15it/s]\n"
     ]
    },
    {
     "name": "stdout",
     "output_type": "stream",
     "text": [
      "val Loss: 0.3860 Acc: 0.8655, f1:0.8137, recall:0.8618 \n"
     ]
    },
    {
     "name": "stderr",
     "output_type": "stream",
     "text": [
      "Train Epoch 30/200: 100%|█████████████████████████████████████████████████████████████████| 27/27 [00:26<00:00,  1.03it/s]\n",
      "Val Epoch 30/200: 100%|███████████████████████████████████████████████████████████████████| 27/27 [00:12<00:00,  2.11it/s]\n"
     ]
    },
    {
     "name": "stdout",
     "output_type": "stream",
     "text": [
      "val Loss: 0.4323 Acc: 0.8526, f1:0.7991, recall:0.8645 \n"
     ]
    },
    {
     "name": "stderr",
     "output_type": "stream",
     "text": [
      "Train Epoch 31/200: 100%|█████████████████████████████████████████████████████████████████| 27/27 [00:26<00:00,  1.03it/s]\n",
      "Val Epoch 31/200: 100%|███████████████████████████████████████████████████████████████████| 27/27 [00:12<00:00,  2.12it/s]\n"
     ]
    },
    {
     "name": "stdout",
     "output_type": "stream",
     "text": [
      "val Loss: 0.4423 Acc: 0.8515, f1:0.8006, recall:0.8586 \n"
     ]
    },
    {
     "name": "stderr",
     "output_type": "stream",
     "text": [
      "Train Epoch 32/200: 100%|█████████████████████████████████████████████████████████████████| 27/27 [00:26<00:00,  1.03it/s]\n",
      "Val Epoch 32/200: 100%|███████████████████████████████████████████████████████████████████| 27/27 [00:12<00:00,  2.14it/s]\n"
     ]
    },
    {
     "name": "stdout",
     "output_type": "stream",
     "text": [
      "val Loss: 0.4274 Acc: 0.8515, f1:0.7974, recall:0.8638 \n"
     ]
    },
    {
     "name": "stderr",
     "output_type": "stream",
     "text": [
      "Train Epoch 33/200: 100%|█████████████████████████████████████████████████████████████████| 27/27 [00:26<00:00,  1.02it/s]\n",
      "Val Epoch 33/200: 100%|███████████████████████████████████████████████████████████████████| 27/27 [00:12<00:00,  2.14it/s]\n"
     ]
    },
    {
     "name": "stdout",
     "output_type": "stream",
     "text": [
      "val Loss: 0.4148 Acc: 0.8573, f1:0.8078, recall:0.8567 \n"
     ]
    },
    {
     "name": "stderr",
     "output_type": "stream",
     "text": [
      "Train Epoch 34/200: 100%|█████████████████████████████████████████████████████████████████| 27/27 [00:26<00:00,  1.04it/s]\n",
      "Val Epoch 34/200: 100%|███████████████████████████████████████████████████████████████████| 27/27 [00:12<00:00,  2.12it/s]\n"
     ]
    },
    {
     "name": "stdout",
     "output_type": "stream",
     "text": [
      "val Loss: 0.4204 Acc: 0.8538, f1:0.7991, recall:0.8652 \n",
      "Learning rate changed: 0.000000\n"
     ]
    },
    {
     "name": "stderr",
     "output_type": "stream",
     "text": [
      "Train Epoch 35/200: 100%|█████████████████████████████████████████████████████████████████| 27/27 [00:26<00:00,  1.01it/s]\n",
      "Val Epoch 35/200: 100%|███████████████████████████████████████████████████████████████████| 27/27 [00:13<00:00,  2.07it/s]\n"
     ]
    },
    {
     "name": "stdout",
     "output_type": "stream",
     "text": [
      "val Loss: 0.3912 Acc: 0.8643, f1:0.8145, recall:0.8663 \n"
     ]
    },
    {
     "name": "stderr",
     "output_type": "stream",
     "text": [
      "Train Epoch 36/200: 100%|█████████████████████████████████████████████████████████████████| 27/27 [00:26<00:00,  1.03it/s]\n",
      "Val Epoch 36/200: 100%|███████████████████████████████████████████████████████████████████| 27/27 [00:12<00:00,  2.12it/s]\n"
     ]
    },
    {
     "name": "stdout",
     "output_type": "stream",
     "text": [
      "val Loss: 0.4423 Acc: 0.8480, f1:0.7948, recall:0.8616 \n"
     ]
    },
    {
     "name": "stderr",
     "output_type": "stream",
     "text": [
      "Train Epoch 37/200: 100%|█████████████████████████████████████████████████████████████████| 27/27 [00:26<00:00,  1.03it/s]\n",
      "Val Epoch 37/200: 100%|███████████████████████████████████████████████████████████████████| 27/27 [00:12<00:00,  2.13it/s]\n"
     ]
    },
    {
     "name": "stdout",
     "output_type": "stream",
     "text": [
      "val Loss: 0.4232 Acc: 0.8503, f1:0.7928, recall:0.8579 \n"
     ]
    },
    {
     "name": "stderr",
     "output_type": "stream",
     "text": [
      "Train Epoch 38/200: 100%|█████████████████████████████████████████████████████████████████| 27/27 [00:26<00:00,  1.03it/s]\n",
      "Val Epoch 38/200: 100%|███████████████████████████████████████████████████████████████████| 27/27 [00:12<00:00,  2.14it/s]\n"
     ]
    },
    {
     "name": "stdout",
     "output_type": "stream",
     "text": [
      "val Loss: 0.4783 Acc: 0.8374, f1:0.7831, recall:0.8499 \n"
     ]
    },
    {
     "name": "stderr",
     "output_type": "stream",
     "text": [
      "Train Epoch 39/200: 100%|█████████████████████████████████████████████████████████████████| 27/27 [00:26<00:00,  1.03it/s]\n",
      "Val Epoch 39/200: 100%|███████████████████████████████████████████████████████████████████| 27/27 [00:12<00:00,  2.14it/s]\n"
     ]
    },
    {
     "name": "stdout",
     "output_type": "stream",
     "text": [
      "val Loss: 0.4266 Acc: 0.8596, f1:0.8086, recall:0.8634 \n"
     ]
    },
    {
     "name": "stderr",
     "output_type": "stream",
     "text": [
      "Train Epoch 40/200: 100%|█████████████████████████████████████████████████████████████████| 27/27 [00:26<00:00,  1.03it/s]\n",
      "Val Epoch 40/200: 100%|███████████████████████████████████████████████████████████████████| 27/27 [00:13<00:00,  2.05it/s]\n"
     ]
    },
    {
     "name": "stdout",
     "output_type": "stream",
     "text": [
      "val Loss: 0.4314 Acc: 0.8538, f1:0.8016, recall:0.8546 \n",
      "Learning rate changed: 0.000000\n"
     ]
    },
    {
     "name": "stderr",
     "output_type": "stream",
     "text": [
      "Train Epoch 41/200: 100%|█████████████████████████████████████████████████████████████████| 27/27 [00:26<00:00,  1.02it/s]\n",
      "Val Epoch 41/200: 100%|███████████████████████████████████████████████████████████████████| 27/27 [00:12<00:00,  2.12it/s]\n"
     ]
    },
    {
     "name": "stdout",
     "output_type": "stream",
     "text": [
      "val Loss: 0.4111 Acc: 0.8643, f1:0.8170, recall:0.8663 \n"
     ]
    },
    {
     "name": "stderr",
     "output_type": "stream",
     "text": [
      "Train Epoch 42/200: 100%|█████████████████████████████████████████████████████████████████| 27/27 [00:26<00:00,  1.03it/s]\n",
      "Val Epoch 42/200: 100%|███████████████████████████████████████████████████████████████████| 27/27 [00:12<00:00,  2.14it/s]\n"
     ]
    },
    {
     "name": "stdout",
     "output_type": "stream",
     "text": [
      "val Loss: 0.4069 Acc: 0.8620, f1:0.8139, recall:0.8702 \n"
     ]
    },
    {
     "name": "stderr",
     "output_type": "stream",
     "text": [
      "Train Epoch 43/200: 100%|█████████████████████████████████████████████████████████████████| 27/27 [00:26<00:00,  1.03it/s]\n",
      "Val Epoch 43/200: 100%|███████████████████████████████████████████████████████████████████| 27/27 [00:12<00:00,  2.10it/s]\n"
     ]
    },
    {
     "name": "stdout",
     "output_type": "stream",
     "text": [
      "val Loss: 0.4359 Acc: 0.8538, f1:0.8058, recall:0.8599 \n"
     ]
    },
    {
     "name": "stderr",
     "output_type": "stream",
     "text": [
      "Train Epoch 44/200: 100%|█████████████████████████████████████████████████████████████████| 27/27 [00:25<00:00,  1.04it/s]\n",
      "Val Epoch 44/200: 100%|███████████████████████████████████████████████████████████████████| 27/27 [00:12<00:00,  2.13it/s]\n"
     ]
    },
    {
     "name": "stdout",
     "output_type": "stream",
     "text": [
      "val Loss: 0.4189 Acc: 0.8585, f1:0.8057, recall:0.8628 \n"
     ]
    },
    {
     "name": "stderr",
     "output_type": "stream",
     "text": [
      "Train Epoch 45/200: 100%|█████████████████████████████████████████████████████████████████| 27/27 [00:26<00:00,  1.03it/s]\n",
      "Val Epoch 45/200: 100%|███████████████████████████████████████████████████████████████████| 27/27 [00:12<00:00,  2.11it/s]\n"
     ]
    },
    {
     "name": "stdout",
     "output_type": "stream",
     "text": [
      "val Loss: 0.4079 Acc: 0.8550, f1:0.7991, recall:0.8659 \n"
     ]
    },
    {
     "name": "stderr",
     "output_type": "stream",
     "text": [
      "Train Epoch 46/200: 100%|█████████████████████████████████████████████████████████████████| 27/27 [00:26<00:00,  1.02it/s]\n",
      "Val Epoch 46/200: 100%|███████████████████████████████████████████████████████████████████| 27/27 [00:12<00:00,  2.12it/s]\n"
     ]
    },
    {
     "name": "stdout",
     "output_type": "stream",
     "text": [
      "val Loss: 0.4103 Acc: 0.8550, f1:0.8061, recall:0.8660 \n"
     ]
    },
    {
     "name": "stderr",
     "output_type": "stream",
     "text": [
      "Train Epoch 47/200: 100%|█████████████████████████████████████████████████████████████████| 27/27 [00:26<00:00,  1.03it/s]\n",
      "Val Epoch 47/200: 100%|███████████████████████████████████████████████████████████████████| 27/27 [00:12<00:00,  2.11it/s]\n"
     ]
    },
    {
     "name": "stdout",
     "output_type": "stream",
     "text": [
      "val Loss: 0.4159 Acc: 0.8596, f1:0.8117, recall:0.8582 \n"
     ]
    },
    {
     "name": "stderr",
     "output_type": "stream",
     "text": [
      "Train Epoch 48/200: 100%|█████████████████████████████████████████████████████████████████| 27/27 [00:26<00:00,  1.03it/s]\n",
      "Val Epoch 48/200: 100%|███████████████████████████████████████████████████████████████████| 27/27 [00:12<00:00,  2.12it/s]\n"
     ]
    },
    {
     "name": "stdout",
     "output_type": "stream",
     "text": [
      "val Loss: 0.3981 Acc: 0.8620, f1:0.8108, recall:0.8649 \n"
     ]
    },
    {
     "name": "stderr",
     "output_type": "stream",
     "text": [
      "Train Epoch 49/200: 100%|█████████████████████████████████████████████████████████████████| 27/27 [00:26<00:00,  1.03it/s]\n",
      "Val Epoch 49/200: 100%|███████████████████████████████████████████████████████████████████| 27/27 [00:12<00:00,  2.12it/s]\n"
     ]
    },
    {
     "name": "stdout",
     "output_type": "stream",
     "text": [
      "val Loss: 0.4330 Acc: 0.8573, f1:0.8047, recall:0.8620 \n"
     ]
    },
    {
     "name": "stderr",
     "output_type": "stream",
     "text": [
      "Train Epoch 50/200: 100%|█████████████████████████████████████████████████████████████████| 27/27 [00:26<00:00,  1.03it/s]\n",
      "Val Epoch 50/200: 100%|███████████████████████████████████████████████████████████████████| 27/27 [00:12<00:00,  2.09it/s]\n"
     ]
    },
    {
     "name": "stdout",
     "output_type": "stream",
     "text": [
      "val Loss: 0.4184 Acc: 0.8573, f1:0.8050, recall:0.8673 \n"
     ]
    },
    {
     "name": "stderr",
     "output_type": "stream",
     "text": [
      "Train Epoch 51/200: 100%|█████████████████████████████████████████████████████████████████| 27/27 [00:26<00:00,  1.02it/s]\n",
      "Val Epoch 51/200: 100%|███████████████████████████████████████████████████████████████████| 27/27 [00:12<00:00,  2.12it/s]\n"
     ]
    },
    {
     "name": "stdout",
     "output_type": "stream",
     "text": [
      "val Loss: 0.4334 Acc: 0.8538, f1:0.8031, recall:0.8598 \n"
     ]
    },
    {
     "name": "stderr",
     "output_type": "stream",
     "text": [
      "Train Epoch 52/200: 100%|█████████████████████████████████████████████████████████████████| 27/27 [00:26<00:00,  1.03it/s]\n",
      "Val Epoch 52/200: 100%|███████████████████████████████████████████████████████████████████| 27/27 [00:12<00:00,  2.13it/s]\n"
     ]
    },
    {
     "name": "stdout",
     "output_type": "stream",
     "text": [
      "val Loss: 0.4439 Acc: 0.8491, f1:0.8000, recall:0.8570 \n"
     ]
    },
    {
     "name": "stderr",
     "output_type": "stream",
     "text": [
      "Train Epoch 53/200: 100%|█████████████████████████████████████████████████████████████████| 27/27 [00:26<00:00,  1.04it/s]\n",
      "Val Epoch 53/200: 100%|███████████████████████████████████████████████████████████████████| 27/27 [00:12<00:00,  2.14it/s]\n"
     ]
    },
    {
     "name": "stdout",
     "output_type": "stream",
     "text": [
      "val Loss: 0.4531 Acc: 0.8491, f1:0.7952, recall:0.8571 \n"
     ]
    },
    {
     "name": "stderr",
     "output_type": "stream",
     "text": [
      "Train Epoch 54/200: 100%|█████████████████████████████████████████████████████████████████| 27/27 [00:26<00:00,  1.03it/s]\n",
      "Val Epoch 54/200: 100%|███████████████████████████████████████████████████████████████████| 27/27 [00:12<00:00,  2.14it/s]\n"
     ]
    },
    {
     "name": "stdout",
     "output_type": "stream",
     "text": [
      "val Loss: 0.4252 Acc: 0.8561, f1:0.8027, recall:0.8561 \n"
     ]
    },
    {
     "name": "stderr",
     "output_type": "stream",
     "text": [
      "Train Epoch 55/200: 100%|█████████████████████████████████████████████████████████████████| 27/27 [00:26<00:00,  1.03it/s]\n",
      "Val Epoch 55/200: 100%|███████████████████████████████████████████████████████████████████| 27/27 [00:12<00:00,  2.13it/s]\n"
     ]
    },
    {
     "name": "stdout",
     "output_type": "stream",
     "text": [
      "val Loss: 0.4216 Acc: 0.8585, f1:0.8059, recall:0.8574 \n"
     ]
    },
    {
     "name": "stderr",
     "output_type": "stream",
     "text": [
      "Train Epoch 56/200: 100%|█████████████████████████████████████████████████████████████████| 27/27 [00:26<00:00,  1.00it/s]\n",
      "Val Epoch 56/200: 100%|███████████████████████████████████████████████████████████████████| 27/27 [00:12<00:00,  2.10it/s]\n"
     ]
    },
    {
     "name": "stdout",
     "output_type": "stream",
     "text": [
      "val Loss: 0.4289 Acc: 0.8526, f1:0.7985, recall:0.8593 \n"
     ]
    },
    {
     "name": "stderr",
     "output_type": "stream",
     "text": [
      "Train Epoch 57/200: 100%|█████████████████████████████████████████████████████████████████| 27/27 [00:26<00:00,  1.03it/s]\n",
      "Val Epoch 57/200: 100%|███████████████████████████████████████████████████████████████████| 27/27 [00:12<00:00,  2.13it/s]\n"
     ]
    },
    {
     "name": "stdout",
     "output_type": "stream",
     "text": [
      "val Loss: 0.4628 Acc: 0.8386, f1:0.7792, recall:0.8507 \n"
     ]
    },
    {
     "name": "stderr",
     "output_type": "stream",
     "text": [
      "Train Epoch 58/200: 100%|█████████████████████████████████████████████████████████████████| 27/27 [00:26<00:00,  1.03it/s]\n",
      "Val Epoch 58/200: 100%|███████████████████████████████████████████████████████████████████| 27/27 [00:12<00:00,  2.12it/s]\n"
     ]
    },
    {
     "name": "stdout",
     "output_type": "stream",
     "text": [
      "val Loss: 0.4295 Acc: 0.8550, f1:0.8046, recall:0.8606 \n"
     ]
    },
    {
     "name": "stderr",
     "output_type": "stream",
     "text": [
      "Train Epoch 59/200: 100%|█████████████████████████████████████████████████████████████████| 27/27 [00:26<00:00,  1.02it/s]\n",
      "Val Epoch 59/200: 100%|███████████████████████████████████████████████████████████████████| 27/27 [00:12<00:00,  2.13it/s]\n"
     ]
    },
    {
     "name": "stdout",
     "output_type": "stream",
     "text": [
      "val Loss: 0.4391 Acc: 0.8538, f1:0.8052, recall:0.8652 \n"
     ]
    },
    {
     "name": "stderr",
     "output_type": "stream",
     "text": [
      "Train Epoch 60/200: 100%|█████████████████████████████████████████████████████████████████| 27/27 [00:26<00:00,  1.04it/s]\n",
      "Val Epoch 60/200: 100%|███████████████████████████████████████████████████████████████████| 27/27 [00:12<00:00,  2.11it/s]"
     ]
    },
    {
     "name": "stdout",
     "output_type": "stream",
     "text": [
      "val Loss: 0.4261 Acc: 0.8596, f1:0.8070, recall:0.8634 \n",
      "Early stopping triggered after 60 epochs without improvement.\n"
     ]
    },
    {
     "name": "stderr",
     "output_type": "stream",
     "text": [
      "\n"
     ]
    }
   ],
   "source": [
    "# Train the model\n",
    "model = train_model(model, criterion, optimizer, exp_lr_scheduler, num_epochs=200, output_csv='metrics_layer4_v2.csv')"
   ]
  },
  {
   "cell_type": "code",
   "execution_count": 28,
   "metadata": {},
   "outputs": [],
   "source": [
    "# Save the model\n",
    "torch.save(model.state_dict(), 'best_model_layer4_v2.pth')"
   ]
  }
 ],
 "metadata": {
  "kernelspec": {
   "display_name": "Python 3 (ipykernel)",
   "language": "python",
   "name": "python3"
  },
  "language_info": {
   "codemirror_mode": {
    "name": "ipython",
    "version": 3
   },
   "file_extension": ".py",
   "mimetype": "text/x-python",
   "name": "python",
   "nbconvert_exporter": "python",
   "pygments_lexer": "ipython3",
   "version": "3.8.13"
  }
 },
 "nbformat": 4,
 "nbformat_minor": 4
}
